{
 "cells": [
  {
   "cell_type": "markdown",
   "metadata": {},
   "source": [
    "# duckduckgo"
   ]
  },
  {
   "cell_type": "code",
   "execution_count": 23,
   "metadata": {},
   "outputs": [
    {
     "name": "stderr",
     "output_type": "stream",
     "text": [
      "c:\\Users\\pushp_vnmc973\\Documents\\ML\\PS1\\.venv\\Lib\\site-packages\\transformers\\generation\\utils.py:1220: UserWarning: Using the model-agnostic default `max_length` (=20) to control the generation length. We recommend setting `max_new_tokens` to control the maximum length of the generation.\n",
      "  warnings.warn(\n"
     ]
    },
    {
     "name": "stdout",
     "output_type": "stream",
     "text": [
      "a red hoodie sweatshirt with a white hoodie\n"
     ]
    }
   ],
   "source": [
    "import torch\n",
    "import pandas as pd\n",
    "from transformers import BlipProcessor, BlipForConditionalGeneration\n",
    "from PIL import Image\n",
    "#import requests\n",
    "from duckduckgo_search import DDGS\n",
    "\n",
    "def image_to_text(image_path):\n",
    "    # Load the BLIP model and processor\n",
    "    device = \"cuda\" if torch.cuda.is_available() else \"cpu\"\n",
    "    processor = BlipProcessor.from_pretrained(\"Salesforce/blip-image-captioning-base\")\n",
    "    model = BlipForConditionalGeneration.from_pretrained(\"Salesforce/blip-image-captioning-base\").to(device)\n",
    "\n",
    "    # Load and preprocess the image\n",
    "    image = Image.open(image_path)\n",
    "\n",
    "    # Preprocess the image and generate caption\n",
    "    inputs = processor(image, return_tensors=\"pt\").to(device)\n",
    "    with torch.no_grad():\n",
    "        generated_ids = model.generate(**inputs)\n",
    "\n",
    "    # Decode the generated caption\n",
    "    caption = processor.decode(generated_ids[0], skip_special_tokens=True)\n",
    "    print(caption)\n",
    "    return caption\n",
    "\n",
    "# Define the function for web search using ContextualWebSearch API\n",
    "\"\"\" \n",
    "Args:\n",
    "keywords: keywords for query.\n",
    "# https://duckduckgo.com/duckduckgo-help-pages/settings/params/\n",
    "region: wt-wt, us-en, uk-en, ru-ru, etc. Defaults to \"wt-wt\".\n",
    "safesearch: on, moderate, off. Defaults to \"moderate\".\n",
    "timelimit: d, w, m, y. Defaults to None.\n",
    "backend: api, html, lite. Defaults to api.\n",
    "api html collect data from https://duckduckgo.com, collect data from https://html.duckduckgo.com,\n",
    "lite collect data from https://lite.duckduckgo.com.\n",
    "max_results: max number of results. If None, returns results only from the first response. Defaults to None.\n",
    "\"\"\"\n",
    "def perform_web_search(query):\n",
    "\n",
    "    results=DDGS().text(\n",
    "        keywords=query,\n",
    "        region='in-en',\n",
    "        safesearch='off',\n",
    "        timelimit=None,\n",
    "        max_results=50\n",
    "    )\n",
    "    results_df=pd.DataFrame(results)\n",
    "    return results_df\n",
    "\n",
    "if __name__ == \"__main__\":\n",
    "    # Example usage\n",
    "    image_path =\"horse.jpeg\"  # Replace with your image path\n",
    "    #text_prompt = [\"red hoodie\",\"a bright red hoodie\"]\n",
    "    text_prompt=\"search for this types\"\n",
    "    search_query=image_to_text(image_path) + text_prompt\n",
    "\n",
    "    search_results=perform_web_search(search_query)\n",
    "    search_results.to_csv('results.csv',index=False)\n",
    "    #print(f\"Found {len(search_results)} search results\")"
   ]
  }
 ],
 "metadata": {
  "kernelspec": {
   "display_name": ".venv",
   "language": "python",
   "name": "python3"
  },
  "language_info": {
   "codemirror_mode": {
    "name": "ipython",
    "version": 3
   },
   "file_extension": ".py",
   "mimetype": "text/x-python",
   "name": "python",
   "nbconvert_exporter": "python",
   "pygments_lexer": "ipython3",
   "version": "3.12.5"
  }
 },
 "nbformat": 4,
 "nbformat_minor": 2
}
